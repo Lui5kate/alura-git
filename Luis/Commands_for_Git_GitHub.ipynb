{
 "cells": [
  {
   "cell_type": "markdown",
   "metadata": {},
   "source": [
    "# Commands for GIT"
   ]
  },
  {
   "cell_type": "code",
   "execution_count": null,
   "metadata": {},
   "outputs": [],
   "source": [
    "mkdir newcarpet #add a new directory\n",
    "cd newcarpet #go to a directory\n",
    "ls #list route\n",
    "touch newfile.ipynb #create new file\n",
    "rm newfile.ipynb #remove a file or a directory that is empty\n",
    "git init #new subdirectory .git in the actual directory (only once)\n",
    "git add . #save progress on a file or all files\n",
    "git commit -m 'Changes' #Commit with a commentary\n",
    "git log #View commit log | 'q' to exit\n",
    "git checkout <commit code> #Go to a commit save state\n",
    "git branch #Display actual branch\n",
    "\n",
    "git status #view actual branch, commits and untracked files\n",
    "git config --global user.email \"lalg22@outlook.com\" #Configurar email para git \n",
    "git config --global user.name \"Luis\" #Configurar nombre para git\n",
    "git config --local user.name \"Luis Lira\" #Configurar de manera local o paraeste proyecto tu nombre\n",
    "git config user.name #Validar nombre en Git\n",
    "git log --oneline #Ver resumen de log en una sola linea\n",
    "git log -p #Ver detalle de cambios de commits\n",
    "\n",
    "#Creando unn servidor local para compartir archivos con Git\n",
    "mk dir servidor #Se crea una carpeta para el servidor\n",
    "cd servidor/ #Nos ubicamos dentro de ella\n",
    "git init --bare #crear un repo vacio, solo contine las modificaciones de los archivos, declara el servidor\n",
    "cd Luis #Regresamos a nuestra carpeta local\n",
    "git remote #Lista los servidores remotos\n",
    "git remote add servidorlocal /home/luis/Proyectos/Oracle-Alura/Git_y_GitHub/servidor/ #Declara el servidor remoto\n",
    "git remote -v #Lista el servidor remoto actual de fetch (Lugar donde vamos a obtener la información) y push (El lugar donde vamos a enviar la información)\n",
    "cd ..\n",
    "mkdir Lau #Creamos una carpeta para simular otro usuario y nos ubicamos en esa nueva carpeta\n",
    "git clone /home/luis/Proyectos/Oracle-Alura/Git_y_GitHub/servidor/ proyecto #Clonamos el repositorio, la carpeta se llamara proyecto, nos manda la advertencia que el repo está vacío\n",
    "\n",
    "cd Luis/ #Regresamos a la carpeta donde están ubicados los archivos\n",
    "git remote #Verificamos que se encuentra aquí servidorlocal\n",
    "git push servidorlocal master #Enviamos la info a servidor local en master\n",
    "cd Lau/proyecto/ #Vamos a la carpeta del otro usuario\n",
    "git remote #Verificamos que se encuentra el servidor\n",
    "git remote rename origin servidorlocal #Renombrar la carpeta del servidor\n",
    "git pull servidorlocal master #Para actualizar los cambios de nuevos archivos o modificaciones\n",
    "\n",
    "#Hacer cambios y verlos reflejados en otro usuario\n",
    "git add index.html #Salvamos el progreso\n",
    "git commit -m \"Renombrando ultima linea\" #Hacemos el commit\n",
    "git push servidorlocal master #Mandamos al serverlocal\n",
    "#Vamos a la carpeta del otro usuario\n",
    "git pull servidorlocal master #Descargamos cambios\n",
    "git log -p #Vemos detalle de los cambios\n",
    "\n",
    "\n",
    "#HEAD: Estado actual de nuestro código, es decir, donde nos colocó Git\n",
    "#Working tree: Lugar donde los archivos realmente están siendo almacenados\n",
    "#index: Lugar donde Git almacena lo que será commiteado, es decir, la ubicación entre el working tree y el repositorio de Git en sí.\n",
    "#HASH: ID del commit\n",
    "#.gitignore se crea y se colocan las carpertas y/o archivos que deseemos que git ignore\n"
   ]
  },
  {
   "cell_type": "markdown",
   "metadata": {},
   "source": [
    "# Commands for gitHub"
   ]
  },
  {
   "cell_type": "code",
   "execution_count": null,
   "metadata": {},
   "outputs": [],
   "source": [
    "git checkout -b <branch> #Make a new branch\n",
    "git remote add origin <url> #link to a specific GitHub\n",
    "git push -u origin <branch> #Upload to the GitHub website | '-u' to make one repo principal (just for the 1st time then you go 'git push')\n",
    "git pull origin master #Pull down changes on GitHub to local computer\n",
    "\n",
    "\n",
    "\n"
   ]
  }
 ],
 "metadata": {
  "kernelspec": {
   "display_name": "Python 3.7.0 64-bit ('3.7.0')",
   "language": "python",
   "name": "python3"
  },
  "language_info": {
   "codemirror_mode": {
    "name": "ipython",
    "version": 3
   },
   "file_extension": ".py",
   "mimetype": "text/x-python",
   "name": "python",
   "nbconvert_exporter": "python",
   "pygments_lexer": "ipython3",
   "version": "3.7.0"
  },
  "orig_nbformat": 4,
  "vscode": {
   "interpreter": {
    "hash": "617979012d6de4421498a522dcea8309a56c6860ecfb65dc19dffbd1fc69b161"
   }
  }
 },
 "nbformat": 4,
 "nbformat_minor": 2
}
